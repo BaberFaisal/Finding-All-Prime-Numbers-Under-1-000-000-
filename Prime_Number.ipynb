{
  "nbformat": 4,
  "nbformat_minor": 0,
  "metadata": {
    "colab": {
      "provenance": [],
      "authorship_tag": "ABX9TyNERhkLgHBtE/dCYz4+/Yg7",
      "include_colab_link": true
    },
    "kernelspec": {
      "name": "python3",
      "display_name": "Python 3"
    },
    "language_info": {
      "name": "python"
    }
  },
  "cells": [
    {
      "cell_type": "markdown",
      "metadata": {
        "id": "view-in-github",
        "colab_type": "text"
      },
      "source": [
        "<a href=\"https://colab.research.google.com/github/BaberFaisal/Finding-All-Prime-Numbers-Under-1-000-000-/blob/main/Prime_Number.ipynb\" target=\"_parent\"><img src=\"https://colab.research.google.com/assets/colab-badge.svg\" alt=\"Open In Colab\"/></a>"
      ]
    },
    {
      "cell_type": "markdown",
      "source": [
        "# **Finding All Prime Numbers Under 1,000,000 Using Python**\n",
        "\n",
        "In this post I'm going to go through a function in Python that can quickly find all the Prime numbers below a given value. For example, if I passed this function a value of 1,000, it would return all the prime numbers below 1000.\n",
        "\n",
        "If you're not sure what a Prime number is, it is a number that can only be divided wholly by itself and one. So a prime number can be other numbers too as long as 1 and itself divides into it. So 8 is not a prime number since 8 divides into 1, 2, 4 and 8.\n",
        "\n"
      ],
      "metadata": {
        "id": "2w8qXcV0MOCa"
      }
    },
    {
      "cell_type": "markdown",
      "source": [
        "First let's set the coding up in a reusable way that will set up a large set of numbers we want to search through. We'll start with 200, so we're specifically wanting to find all prime numbers that exist that are equal to or smaller than 200.\n",
        "\n"
      ],
      "metadata": {
        "id": "FI8Dcy72MoH1"
      }
    },
    {
      "cell_type": "code",
      "source": [
        "number_range = set(range(2, 200))\n"
      ],
      "metadata": {
        "id": "ASJP1g8PMi_C"
      },
      "execution_count": 1,
      "outputs": []
    },
    {
      "cell_type": "markdown",
      "source": [
        "The actual point for Prime number is 2, so we want to start by excluding 0 and 1 from the number list and then deciding on some integer between 2 and what we set above as the upper bound which in this case is 200. We can do that using a simple for loop which will iterate over the range of numbers we have set and store them in a new list. In other words, we'll be going over this list one element at a time.\n",
        "\n",
        "Using our range of numbers, we'll use a loop to see which are prime. The reason for this is that there are special functions that will allow us to detect prime values during our search. That's what we’ll move to soon.\n",
        "\n",
        "Let's also create a `prime_list` place where we can store any primes we discover. A list will be perfect for this job.\n"
      ],
      "metadata": {
        "id": "8S2i1LJzMt4q"
      }
    },
    {
      "cell_type": "code",
      "source": [
        "prime_list = []\n",
        "\n",
        "prime_list.append(min(number_range))\n",
        "prime_list\n"
      ],
      "metadata": {
        "colab": {
          "base_uri": "https://localhost:8080/"
        },
        "id": "CChgENEOMtfX",
        "outputId": "264bce8b-df16-4bb6-8dc6-0413130e0ac9"
      },
      "execution_count": 2,
      "outputs": [
        {
          "output_type": "execute_result",
          "data": {
            "text/plain": [
              "[2]"
            ]
          },
          "metadata": {},
          "execution_count": 2
        }
      ]
    },
    {
      "cell_type": "markdown",
      "source": [
        "I am going to end up using a while loop to iterate through our list and check for primes, but before we construct that I always like to build up the code in steps so that we understand exactly what’s happening. We can even do that here using another set.\n",
        "\n",
        "So we have our set of numbers called number_range which goes to include all integers between 2 and 200. Let's extract the first number from that set that we want to check, and then create a list of all multiples of this value using the object .difference_update() method. This will help us get to our list called prime_list.\n",
        "\n",
        "There is a method which will remove an element from a set and provide that value to us, and that method is called `.pop()`\n",
        "\n",
        "Let's see it in action.\n"
      ],
      "metadata": {
        "id": "u94Z3ARmM9pf"
      }
    },
    {
      "cell_type": "code",
      "source": [
        "number_range = set(range(2, 20))\n",
        "\n",
        "number_range\n"
      ],
      "metadata": {
        "colab": {
          "base_uri": "https://localhost:8080/"
        },
        "id": "W98Qz36OM5xd",
        "outputId": "e3921621-103d-4180-e3f6-c15c87a0a1a4"
      },
      "execution_count": 3,
      "outputs": [
        {
          "output_type": "execute_result",
          "data": {
            "text/plain": [
              "{2, 3, 4, 5, 6, 7, 8, 9, 10, 11, 12, 13, 14, 15, 16, 17, 18, 19}"
            ]
          },
          "metadata": {},
          "execution_count": 3
        }
      ]
    },
    {
      "cell_type": "code",
      "source": [
        "prime_list = []\n",
        "\n",
        "prime_list.append(number_range.pop())\n",
        "prime_list\n"
      ],
      "metadata": {
        "colab": {
          "base_uri": "https://localhost:8080/"
        },
        "id": "bHDrDCytNEnt",
        "outputId": "233aaf8d-b61c-44b8-fa6d-3efa84040e3f"
      },
      "execution_count": 4,
      "outputs": [
        {
          "output_type": "execute_result",
          "data": {
            "text/plain": [
              "[2]"
            ]
          },
          "metadata": {},
          "execution_count": 4
        }
      ]
    },
    {
      "cell_type": "markdown",
      "source": [
        "Now we want to create a list of all the multiples of that first number we just popped. We can do that using a for loop.\n",
        "\n",
        "The next step is to build a list of multiples of our current prime number that we've just checked. In this first case it was the number 2. We want to generate a list of multiples of 2 up to our upper range (in our case, 20).\n",
        "\n",
        "We're going to again use a set rather than a list, because it allows us some special functionality that we'll use soon, which is the magic of this approach.\n",
        "\n",
        "Now, the step is key here. We want multiples of our number, so we want to increment in steps of our number so we can get it (prime * n)\n",
        "\n",
        "Let's have a look at our list of multiples.\n"
      ],
      "metadata": {
        "id": "i1JHGOQmNTnc"
      }
    },
    {
      "cell_type": "code",
      "source": [
        "prime = 2\n",
        "multiples = set(range(prime*2, 20, prime))\n",
        "multiples\n"
      ],
      "metadata": {
        "colab": {
          "base_uri": "https://localhost:8080/"
        },
        "id": "AVPGclXhNaQb",
        "outputId": "ad085931-233f-477e-8c6e-bf680fc4dc28"
      },
      "execution_count": 5,
      "outputs": [
        {
          "output_type": "execute_result",
          "data": {
            "text/plain": [
              "{4, 6, 8, 10, 12, 14, 16, 18}"
            ]
          },
          "metadata": {},
          "execution_count": 5
        }
      ]
    },
    {
      "cell_type": "markdown",
      "source": [
        "The next step is the magic I spoke about earlier, we're using the special .difference_update method which removes any values from our number range that match the multiples our number just was. You should see that now we’re doing this because if a number is a multiple of anything other than 1 or itself then it's not a prime number and can be removed from the list to be checked.\n",
        "\n",
        "Before we apply .difference_update, let’s look at our two sets.\n"
      ],
      "metadata": {
        "id": "jeu-o-6NNf9_"
      }
    },
    {
      "cell_type": "code",
      "source": [
        "number_range\n",
        "multiples\n"
      ],
      "metadata": {
        "colab": {
          "base_uri": "https://localhost:8080/"
        },
        "id": "PKXQIbkWNc-7",
        "outputId": "05399c00-1eae-42c9-eaac-d1d9da4512ed"
      },
      "execution_count": 6,
      "outputs": [
        {
          "output_type": "execute_result",
          "data": {
            "text/plain": [
              "{4, 6, 8, 10, 12, 14, 16, 18}"
            ]
          },
          "metadata": {},
          "execution_count": 6
        }
      ]
    },
    {
      "cell_type": "code",
      "source": [
        "number_range.difference_update(multiples)\n",
        "number_range\n"
      ],
      "metadata": {
        "colab": {
          "base_uri": "https://localhost:8080/"
        },
        "id": "mg29FX4RNoMI",
        "outputId": "47cf965e-1dc4-4564-ca04-4a3f525f8572"
      },
      "execution_count": 7,
      "outputs": [
        {
          "output_type": "execute_result",
          "data": {
            "text/plain": [
              "{3, 5, 7, 9, 11, 13, 15, 17, 19}"
            ]
          },
          "metadata": {},
          "execution_count": 7
        }
      ]
    },
    {
      "cell_type": "markdown",
      "source": [
        "When we look at our number range now, we will also present in the multiples set have been removed so we know they were not primes\n",
        "\n",
        "This is amazing! We've made a massive reduction to the pool of numbers that need to be tested so this is really efficient. It also means the smallest number in our range is a prime number so we know nothing smaller than it divides into it — and this means we can run that logic again from the top!\n",
        "\n",
        "Whenever you can run something over and over again, a while loop is often a good solution.\n",
        "\n",
        "Here is the code, with a while loop doing the hard work of updated the number list and extracting primes until the list is empty.\n"
      ],
      "metadata": {
        "id": "Uk_mcr7iNtwF"
      }
    },
    {
      "cell_type": "code",
      "source": [
        "# run to get all primes below 1000.\n",
        "\n",
        "n = 1000\n",
        "\n",
        "# number range to be checked\n",
        "number_range = set(range(2, n))\n",
        "\n",
        "# empty list to append discovered primes to\n",
        "prime_list = []\n",
        "\n",
        "# Create until list is empty\n",
        "while number_range:\n",
        "    prime = number_range.pop()\n",
        "    prime_list.append(prime)\n",
        "\n",
        "    multiples = set(range(prime*2, n, prime))\n",
        "    number_range.difference_update(multiples)\n",
        "\n",
        "print(prime_list)\n"
      ],
      "metadata": {
        "colab": {
          "base_uri": "https://localhost:8080/"
        },
        "id": "dPjM0NllNsgL",
        "outputId": "fad52acf-09cf-4f4d-a7be-370bca509552"
      },
      "execution_count": 11,
      "outputs": [
        {
          "output_type": "stream",
          "name": "stdout",
          "text": [
            "[2, 3, 5, 7, 11, 13, 17, 19, 23, 29, 31, 37, 41, 43, 47, 53, 59, 61, 67, 71, 73, 79, 83, 89, 97, 101, 103, 107, 109, 113, 127, 131, 137, 139, 149, 151, 157, 163, 167, 173, 179, 181, 191, 193, 197, 199, 211, 223, 227, 229, 233, 239, 241, 251, 257, 263, 269, 271, 277, 281, 283, 293, 307, 311, 313, 317, 331, 337, 347, 349, 353, 359, 367, 373, 379, 383, 389, 397, 401, 409, 419, 421, 431, 433, 439, 443, 449, 457, 461, 463, 467, 479, 487, 491, 499, 503, 509, 521, 523, 541, 547, 557, 563, 569, 571, 577, 587, 593, 599, 601, 607, 613, 617, 619, 631, 641, 643, 647, 653, 659, 661, 673, 677, 683, 691, 701, 709, 719, 727, 733, 739, 743, 751, 757, 761, 769, 773, 787, 797, 809, 811, 821, 823, 827, 829, 839, 853, 857, 859, 863, 877, 881, 883, 887, 907, 911, 919, 929, 937, 941, 947, 953, 967, 971, 977, 983, 991, 997]\n"
          ]
        }
      ]
    },
    {
      "cell_type": "markdown",
      "source": [
        "Let's get some interesting stats from our list which we can use to summarise our findings, the number of primes that were found, and the largest prime in the list!\n"
      ],
      "metadata": {
        "id": "XbDZaojmN5q5"
      }
    },
    {
      "cell_type": "code",
      "source": [
        "print(len(prime_list))\n",
        "\n",
        "print(f'There are {len(prime_list)} prime numbers between 1 and {n}, the largest of which is {prime_list[-1]}')\n"
      ],
      "metadata": {
        "colab": {
          "base_uri": "https://localhost:8080/"
        },
        "id": "vKjrfOQHN5XD",
        "outputId": "d8531bfa-c92d-47c3-ae27-62bdcd116e84"
      },
      "execution_count": 9,
      "outputs": [
        {
          "output_type": "stream",
          "name": "stdout",
          "text": [
            "168\n",
            "There are 168 prime numbers between 1 and 1000, the largest of which is 997\n"
          ]
        }
      ]
    },
    {
      "cell_type": "code",
      "source": [],
      "metadata": {
        "id": "dsQKn05xOJo2"
      },
      "execution_count": null,
      "outputs": []
    }
  ]
}